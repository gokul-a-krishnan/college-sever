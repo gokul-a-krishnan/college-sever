{
  "nbformat": 4,
  "nbformat_minor": 0,
  "metadata": {
    "colab": {
      "name": "01 . Python Series - Introduction.ipynb",
      "provenance": [],
      "collapsed_sections": [],
      "toc_visible": true,
      "authorship_tag": "ABX9TyM7u1KltqND7c0MldgU7flH",
      "include_colab_link": true
    },
    "kernelspec": {
      "name": "python3",
      "display_name": "Python 3"
    }
  },
  "cells": [
    {
      "cell_type": "markdown",
      "metadata": {
        "id": "view-in-github",
        "colab_type": "text"
      },
      "source": [
        "<a href=\"https://colab.research.google.com/github/gokul-a-krishnan/college-sever/blob/master/01_Python_Series_Introduction.ipynb\" target=\"_parent\"><img src=\"https://colab.research.google.com/assets/colab-badge.svg\" alt=\"Open In Colab\"/></a>"
      ]
    },
    {
      "cell_type": "markdown",
      "metadata": {
        "id": "jvm0368XHEBh",
        "colab_type": "text"
      },
      "source": [
        "# Python Series"
      ]
    },
    {
      "cell_type": "markdown",
      "metadata": {
        "id": "hD7iRWnWHhXe",
        "colab_type": "text"
      },
      "source": [
        "## What is Python ?\n",
        "> Python is General purpose object oriented programming language created by [Guido van Rossum](https://en.wikipedia.org/wiki/Guido_van_Rossum).\n",
        "\n"
      ]
    },
    {
      "cell_type": "markdown",
      "metadata": {
        "id": "G4rO_ONoNHzD",
        "colab_type": "text"
      },
      "source": [
        "## Why Python ?\n",
        "> Python is simple and easy to learn. It is used in Automated Testing, Web development, Data Science, Artificial Intelligence, Machine Learning and Deep learning. "
      ]
    },
    {
      "cell_type": "markdown",
      "metadata": {
        "id": "nt8owSpSInLA",
        "colab_type": "text"
      },
      "source": [
        "## What will be covered in this course ?"
      ]
    },
    {
      "cell_type": "markdown",
      "metadata": {
        "id": "2PisZy5zM5nd",
        "colab_type": "text"
      },
      "source": [
        "\n",
        "> 1. Install Python\n",
        "2. Basics in python\n",
        "3. Variables, Types and Inputs\n",
        "4. Operators\n",
        "5. Decision making\n",
        "6. Loops\n",
        "7. Operators\n",
        "8. Strings\n",
        "9. List\n",
        "10. Tuples\n",
        "11. Dictionary\n",
        "12. Slicing\n",
        "13. Functions\n",
        "14. Modules\n",
        "15. File Operations\n",
        "16. Exception handling\n",
        "17. Classes and Objects\n",
        "18. Inheritance\n"
      ]
    },
    {
      "cell_type": "markdown",
      "metadata": {
        "id": "yiHzq_LtOeKE",
        "colab_type": "text"
      },
      "source": [
        "## How to install Python ? \n",
        "![image.png](data:image/png;base64,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)"
      ]
    }
  ]
}